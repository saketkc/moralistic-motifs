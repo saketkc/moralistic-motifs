{
 "cells": [
  {
   "cell_type": "code",
   "execution_count": 103,
   "metadata": {
    "collapsed": false
   },
   "outputs": [],
   "source": [
    "## Alignment Matrix\n",
    "import numpy as np\n",
    "import collections\n",
    "import pandas as pd\n",
    "sequences = np.array([['A', 'A', 'T', 'T', 'G', 'A'],\n",
    "                      ['A', 'G', 'G', 'T', 'C', 'C'],\n",
    "                      ['A', 'G', 'G', 'A', 'T', 'G'],\n",
    "                      ['A', 'G', 'G', 'C', 'G', 'T']\n",
    "                     ])\n",
    "bases = ['A', 'C', 'G', 'T']\n",
    "\n",
    "a=sequences[:,1]"
   ]
  },
  {
   "cell_type": "code",
   "execution_count": 112,
   "metadata": {
    "collapsed": false
   },
   "outputs": [],
   "source": [
    "df = pd.DataFrame(sequences)\n",
    "df.index = bases\n",
    "df_alignment = df.copy()"
   ]
  },
  {
   "cell_type": "code",
   "execution_count": 113,
   "metadata": {
    "collapsed": false
   },
   "outputs": [],
   "source": [
    "for col in range(0, len(df.columns)):\n",
    "    counts = (df[col].value_counts())\n",
    "    c_dict = counts.to_dict()\n",
    "    df_alignment.loc[bases, col] = 0\n",
    "    df_alignment.loc[c_dict.keys(), col] = list(c_dict.values())"
   ]
  },
  {
   "cell_type": "code",
   "execution_count": 114,
   "metadata": {
    "collapsed": false
   },
   "outputs": [
    {
     "name": "stdout",
     "output_type": "stream",
     "text": [
      "Alignment Matrix:\n",
      "   0  1  2  3  4  5\n",
      "A  4  1  0  1  0  1\n",
      "C  0  0  0  1  1  1\n",
      "G  0  3  3  0  2  1\n",
      "T  0  0  1  2  1  1\n"
     ]
    }
   ],
   "source": [
    "print('Alignment Matrix:\\n{}'.format(df2))"
   ]
  },
  {
   "cell_type": "markdown",
   "metadata": {},
   "source": [
    "$$w_{i,j} = \\log(\\frac{\\frac{n_{i,j}+p_i}{N+1}}{p_i}) = \\log(\\frac{f_{i,j}}{p_i})$$\n",
    "  \n",
    "  \n",
    "  \n",
    "  where $p_i$ is the background frequency\n",
    "  and $f_{i,j} = \\frac{n_{i,j}+p_i}{N+1}$ is the frequency of base $i$ at position $j$"
   ]
  },
  {
   "cell_type": "code",
   "execution_count": 127,
   "metadata": {
    "collapsed": false
   },
   "outputs": [],
   "source": [
    "bg_p = {'A':0.25, \n",
    "        'G':0.25, \n",
    "        'C':0.25,\n",
    "        'T': 0.25}\n",
    "df_weight = df_alignment.copy()\n",
    "N = len(df.index)\n",
    "def calc_weights(row):\n",
    "    row = np.log((row+bg_p[row.name])/(N+1)/bg_p[row.name])\n",
    "    return row\n",
    "\n",
    "df_weight = df_weight.apply(calc_weights, axis=1)"
   ]
  },
  {
   "cell_type": "code",
   "execution_count": 128,
   "metadata": {
    "collapsed": false
   },
   "outputs": [
    {
     "name": "stdout",
     "output_type": "stream",
     "text": [
      "Weight Matrix:\n",
      "          0         1         2         3         4  5\n",
      "A  1.223775  0.000000 -1.609438  0.000000 -1.609438  0\n",
      "C -1.609438 -1.609438 -1.609438  0.000000  0.000000  0\n",
      "G -1.609438  0.955511  0.955511 -1.609438  0.587787  0\n",
      "T -1.609438 -1.609438  0.000000  0.587787  0.000000  0\n"
     ]
    }
   ],
   "source": [
    "print('Weight Matrix:\\n{}'.format(df_weight))"
   ]
  },
  {
   "cell_type": "markdown",
   "metadata": {},
   "source": [
    "Assume the distribution of letters to be IID, the probability pf alignment matrix is a multinomial:\n",
    "$$\n",
    "P_{matrix} == \\prod_{j=1}^L \\frac{N!}{\\prod_{i=1}^{|A|} n_{i,j}!} \\prod_{i=1}^{|A|}p_i^{n_{i,j}}\n",
    "$$\n",
    "\n",
    "where $j$ refers to the column of the matrix(the positions of bases)\n",
    "and $i$ refers to the rows (bases 'A','T','C','G')\n",
    "$L$ refers to the total number of columns in matrix and $|A|$ refers to the number of types of bases\n"
   ]
  },
  {
   "cell_type": "markdown",
   "metadata": {},
   "source": [
    "Information content of a sequence is the log-likelhood of sequence divide by $-N$:\n",
    "$$\n",
    "LL = \\sum_{j=1}^L\\sum_{i=1}^{A} n_{i,j} \\ln(\\frac{p_i}{f_{i,j}})\n",
    "$$\n",
    "\n",
    "$$\n",
    "I_{seq} = \\sum_{j=1}^L\\sum_{i=1}^{A} f_{i,j} \\ln(\\frac{f_{i,j}}{p_i})\n",
    "$$\n"
   ]
  },
  {
   "cell_type": "markdown",
   "metadata": {},
   "source": [
    "$2NI_{seq}$ follows a $\\chi^2$ distribution woith $L(A-1)$ degrees of freedom (comes from the fact that $-NI_{seq}$ is a log likelihood ratio."
   ]
  },
  {
   "cell_type": "markdown",
   "metadata": {},
   "source": [
    "There is an importatn discussion of accoutning for gaps and correlation in 1195 paper by Hertz and Stormo, which I am skipping for now"
   ]
  },
  {
   "cell_type": "code",
   "execution_count": null,
   "metadata": {
    "collapsed": true
   },
   "outputs": [],
   "source": []
  }
 ],
 "metadata": {
  "kernelspec": {
   "display_name": "Python 3",
   "language": "python",
   "name": "python3"
  },
  "language_info": {
   "codemirror_mode": {
    "name": "ipython",
    "version": 3
   },
   "file_extension": ".py",
   "mimetype": "text/x-python",
   "name": "python",
   "nbconvert_exporter": "python",
   "pygments_lexer": "ipython3",
   "version": "3.5.1"
  }
 },
 "nbformat": 4,
 "nbformat_minor": 0
}
